{
 "cells": [
  {
   "cell_type": "markdown",
   "metadata": {},
   "source": [
    "# Array"
   ]
  },
  {
   "cell_type": "markdown",
   "metadata": {},
   "source": [
    "## 27.\tRemove Element"
   ]
  },
  {
   "cell_type": "code",
   "execution_count": 18,
   "metadata": {},
   "outputs": [
    {
     "name": "stdout",
     "output_type": "stream",
     "text": [
      "4\n",
      "[1, 2, 4, 5, 5]\n"
     ]
    }
   ],
   "source": [
    "function removeElement(nums::Array, val::Int)::Int\n",
    "    if length(nums) == 0\n",
    "        return 0\n",
    "    end\n",
    "    i,t = 1,1\n",
    "    while i <= length(nums)\n",
    "        if val != nums[i]\n",
    "            nums[t] = nums[i]\n",
    "            t += 1\n",
    "        end\n",
    "        i+=1        \n",
    "    end\n",
    "    return t-1\n",
    "end;\n",
    "\n",
    "l = [1,2,3,4,5]\n",
    "println(removeElement(l,3))\n",
    "println(l)"
   ]
  },
  {
   "cell_type": "markdown",
   "metadata": {},
   "source": [
    "## 26. Remove Duplicates from Sorted Array"
   ]
  },
  {
   "cell_type": "code",
   "execution_count": 19,
   "metadata": {},
   "outputs": [
    {
     "name": "stdout",
     "output_type": "stream",
     "text": [
      "5\n",
      "[1, 2, 3, 4, 5, 4, 5]\n"
     ]
    }
   ],
   "source": [
    "function removeDuplicates(nums::Array)::Int\n",
    "    if length(nums) == 0\n",
    "        return 0\n",
    "    end\n",
    "    if length(nums) == 1\n",
    "        return 1\n",
    "    end\n",
    "    i,t = 1,1\n",
    "    while i <= length(nums)-1\n",
    "        if nums[i] != nums[i+1]\n",
    "            nums[t] = nums[i]\n",
    "            t += 1\n",
    "        end\n",
    "        i += 1\n",
    "    end\n",
    "    nums[t] = nums[i]\n",
    "    return t\n",
    "end;\n",
    "\n",
    "l = [1,2,2,3,4,4,5]\n",
    "println(removeDuplicates(l))\n",
    "println(l)"
   ]
  },
  {
   "cell_type": "markdown",
   "metadata": {},
   "source": [
    "## 80. Remove Duplicates from Sorted Array II"
   ]
  },
  {
   "cell_type": "code",
   "execution_count": 25,
   "metadata": {},
   "outputs": [
    {
     "name": "stdout",
     "output_type": "stream",
     "text": [
      "7\n",
      "[0, 0, 1, 1, 2, 3, 3, 3, 3]\n"
     ]
    }
   ],
   "source": [
    "function removeDuplicates(nums::Array)::Int\n",
    "    if length(nums) == 0\n",
    "        return 0\n",
    "    end\n",
    "    if length(nums) <= 2\n",
    "        return length(nums)\n",
    "    end\n",
    "    i,t = 1,1\n",
    "    count = 0\n",
    "    while i <= length(nums)\n",
    "        if count < 2\n",
    "            count +=1\n",
    "            nums[t] = nums[i]\n",
    "            t += 1\n",
    "        end\n",
    "        if i<=length(nums)-1 && nums[i] != nums[i+1]\n",
    "            count = 0\n",
    "        end\n",
    "        i+=1\n",
    "    end\n",
    "    return t-1\n",
    "end;\n",
    "\n",
    "l = [0,0,1,1,1,1,2,3,3]\n",
    "println(removeDuplicates(l))\n",
    "println(l)"
   ]
  },
  {
   "cell_type": "code",
   "execution_count": null,
   "metadata": {},
   "outputs": [],
   "source": []
  }
 ],
 "metadata": {
  "kernelspec": {
   "display_name": "Julia 1.4.1",
   "language": "julia",
   "name": "julia-1.4"
  },
  "language_info": {
   "file_extension": ".jl",
   "mimetype": "application/julia",
   "name": "julia",
   "version": "1.4.1"
  }
 },
 "nbformat": 4,
 "nbformat_minor": 4
}
