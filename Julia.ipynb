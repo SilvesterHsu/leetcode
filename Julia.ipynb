{
 "cells": [
  {
   "cell_type": "markdown",
   "metadata": {},
   "source": [
    "## #27\tRemove Element"
   ]
  },
  {
   "cell_type": "code",
   "execution_count": 2,
   "metadata": {},
   "outputs": [
    {
     "name": "stdout",
     "output_type": "stream",
     "text": [
      "5\n",
      "[1, 2, 4, 5, 5]\n"
     ]
    }
   ],
   "source": [
    "function removeElement(nums::Array, val::Int)\n",
    "    if length(nums) == 0\n",
    "        return 0\n",
    "    end\n",
    "    i,t = 1,1\n",
    "    while i <= length(nums)\n",
    "        if val != nums[i]\n",
    "            nums[t] = nums[i]\n",
    "            t += 1\n",
    "        end\n",
    "        i+=1        \n",
    "    end\n",
    "    return t\n",
    "end;\n",
    "\n",
    "l = [1,2,3,4,5]\n",
    "println(removeElement(l,3))\n",
    "println(l)"
   ]
  },
  {
   "cell_type": "code",
   "execution_count": null,
   "metadata": {},
   "outputs": [],
   "source": []
  }
 ],
 "metadata": {
  "kernelspec": {
   "display_name": "Julia 1.4.1",
   "language": "julia",
   "name": "julia-1.4"
  },
  "language_info": {
   "file_extension": ".jl",
   "mimetype": "application/julia",
   "name": "julia",
   "version": "1.4.1"
  }
 },
 "nbformat": 4,
 "nbformat_minor": 4
}
