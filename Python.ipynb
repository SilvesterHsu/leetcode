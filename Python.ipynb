{
 "cells": [
  {
   "cell_type": "markdown",
   "metadata": {},
   "source": [
    "# Array"
   ]
  },
  {
   "cell_type": "markdown",
   "metadata": {},
   "source": [
    "## 27. Remove Element"
   ]
  },
  {
   "cell_type": "code",
   "execution_count": 1,
   "metadata": {},
   "outputs": [
    {
     "name": "stdout",
     "output_type": "stream",
     "text": [
      "4\n"
     ]
    },
    {
     "data": {
      "text/plain": [
       "[1, 2, 4, 5, 5]"
      ]
     },
     "execution_count": 1,
     "metadata": {},
     "output_type": "execute_result"
    }
   ],
   "source": [
    "from typing import List\n",
    "def removeElement(nums: List[int], val: int) -> int:\n",
    "    if not nums or not len(nums):\n",
    "        return 0\n",
    "    i,t = 0, 0\n",
    "    while i < len(nums):\n",
    "        if nums[i] != val:\n",
    "            nums[t] = nums[i]\n",
    "            t += 1\n",
    "        i += 1\n",
    "    return t\n",
    "\n",
    "l = [1,2,3,4,5]\n",
    "print(removeElement(l,3))\n",
    "l"
   ]
  },
  {
   "cell_type": "markdown",
   "metadata": {},
   "source": [
    "## 26. Remove Duplicates from Sorted Array"
   ]
  },
  {
   "cell_type": "code",
   "execution_count": 5,
   "metadata": {},
   "outputs": [
    {
     "name": "stdout",
     "output_type": "stream",
     "text": [
      "5\n",
      "[1, 2, 3, 4, 5, 4, 5]\n"
     ]
    }
   ],
   "source": [
    "def removeDuplicates(nums: List[int]) -> int:\n",
    "    if len(nums) == 0:\n",
    "        return 0\n",
    "    if len(nums) == 1:\n",
    "        return 1\n",
    "    i,t = 0,0\n",
    "    while i < len(nums)-1:\n",
    "        if nums[i] != nums[i+1]:\n",
    "            nums[t] = nums[i]\n",
    "            t += 1\n",
    "        i+=1\n",
    "    nums[t] = nums[i]\n",
    "    return t+1\n",
    "\n",
    "l = [1,2,2,3,4,4,5]\n",
    "print(removeDuplicates(l))\n",
    "print(l)"
   ]
  },
  {
   "cell_type": "markdown",
   "metadata": {},
   "source": [
    "## 80. Remove Duplicates from Sorted Array II"
   ]
  },
  {
   "cell_type": "code",
   "execution_count": 6,
   "metadata": {},
   "outputs": [
    {
     "name": "stdout",
     "output_type": "stream",
     "text": [
      "7\n",
      "[0, 0, 1, 1, 2, 3, 3, 3, 3]\n"
     ]
    }
   ],
   "source": [
    "def removeDuplicates(nums: List[int]) -> int:\n",
    "    if len(nums) == 0:\n",
    "        return 0\n",
    "    if len(nums) <= 2:\n",
    "        return len(nums)\n",
    "    i,t = 0,0\n",
    "    count = 0\n",
    "    while i < len(nums):\n",
    "        if count < 2:\n",
    "            count +=1\n",
    "            nums[t] = nums[i]\n",
    "            t += 1\n",
    "        if i<len(nums)-1 and nums[i] != nums[i+1]:\n",
    "            count = 0\n",
    "        i+=1\n",
    "\n",
    "    return t\n",
    "\n",
    "l = [0,0,1,1,1,1,2,3,3]\n",
    "print(removeDuplicates(l))\n",
    "print(l)"
   ]
  },
  {
   "cell_type": "code",
   "execution_count": null,
   "metadata": {},
   "outputs": [],
   "source": []
  }
 ],
 "metadata": {
  "kernelspec": {
   "display_name": "Python 3",
   "language": "python",
   "name": "python3"
  },
  "language_info": {
   "codemirror_mode": {
    "name": "ipython",
    "version": 3
   },
   "file_extension": ".py",
   "mimetype": "text/x-python",
   "name": "python",
   "nbconvert_exporter": "python",
   "pygments_lexer": "ipython3",
   "version": "3.8.3"
  }
 },
 "nbformat": 4,
 "nbformat_minor": 4
}
